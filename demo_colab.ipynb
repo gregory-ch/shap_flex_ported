{
  "nbformat": 4,
  "nbformat_minor": 0,
  "metadata": {
    "colab": {
      "name": "demo_colab",
      "provenance": [],
      "collapsed_sections": [],
      "authorship_tag": "ABX9TyPYqilXl8+RfzibQWvjLFU3",
      "include_colab_link": true
    },
    "kernelspec": {
      "name": "python3",
      "display_name": "Python 3"
    },
    "language_info": {
      "name": "python"
    },
    "accelerator": "GPU"
  },
  "cells": [
    {
      "cell_type": "markdown",
      "metadata": {
        "id": "view-in-github",
        "colab_type": "text"
      },
      "source": [
        "<a href=\"https://colab.research.google.com/github/gregory-ch/shap_flex_porting/blob/main/demo_colab.ipynb\" target=\"_parent\"><img src=\"https://colab.research.google.com/assets/colab-badge.svg\" alt=\"Open In Colab\"/></a>"
      ]
    },
    {
      "cell_type": "code",
      "execution_count": 1,
      "metadata": {
        "id": "3pCGiOaJxKOm"
      },
      "outputs": [],
      "source": [
        "\"\"\"\n",
        "This module contains using user-defined trained models and prediction functions to compute approximate Shapley values for\n",
        "single models. \n",
        "\"\"\"\n",
        "\n",
        "import numpy as np\n",
        "import pandas as pd\n",
        "import random\n",
        "import csv\n",
        "import itertools"
      ]
    },
    {
      "cell_type": "code",
      "source": [
        "class shapFlex_plus:\n",
        "    def __init__(explain, reference = None, model, predict_function, target_features = None,\n",
        "                     causal = None, causal_weights = None, sample_size = 60, use_future = False)):\n",
        "                     \n"
      ],
      "metadata": {
        "id": "9-g4zu6ePJNp"
      },
      "execution_count": null,
      "outputs": []
    }
  ]
}